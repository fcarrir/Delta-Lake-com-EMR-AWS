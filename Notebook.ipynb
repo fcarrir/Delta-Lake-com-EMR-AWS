{
 "cells": [
  {
   "cell_type": "markdown",
   "id": "e87319b5-8fb0-4f29-bfb2-bb41ef489867",
   "metadata": {
    "execution": {
     "iopub.execute_input": "2022-03-22T02:14:28.448366Z",
     "iopub.status.busy": "2022-03-22T02:14:28.447842Z",
     "iopub.status.idle": "2022-03-22T02:14:28.536771Z",
     "shell.execute_reply": "2022-03-22T02:14:28.536070Z",
     "shell.execute_reply.started": "2022-03-22T02:14:28.448326Z"
    },
    "tags": []
   },
   "source": [
    "# Bootcamp IGTI - Engenheiro de Dados Cloud\n",
    "\n",
    "### Use Case - Trabalhando com tabelas Delta"
   ]
  },
  {
   "cell_type": "code",
   "execution_count": 4,
   "id": "82285e81-a681-4a06-b6f1-37a038b06345",
   "metadata": {
    "execution": {
     "iopub.execute_input": "2022-03-22T02:15:48.835062Z",
     "iopub.status.busy": "2022-03-22T02:15:48.834791Z",
     "iopub.status.idle": "2022-03-22T02:15:48.902298Z",
     "shell.execute_reply": "2022-03-22T02:15:48.901732Z",
     "shell.execute_reply.started": "2022-03-22T02:15:48.835035Z"
    },
    "tags": []
   },
   "outputs": [
    {
     "data": {
      "application/vnd.jupyter.widget-view+json": {
       "model_id": "e5998667aec54d659fc58c1e059bee8d",
       "version_major": 2,
       "version_minor": 0
      },
      "text/plain": [
       "VBox()"
      ]
     },
     "metadata": {},
     "output_type": "display_data"
    },
    {
     "data": {
      "application/vnd.jupyter.widget-view+json": {
       "model_id": "",
       "version_major": 2,
       "version_minor": 0
      },
      "text/plain": [
       "FloatProgress(value=0.0, bar_style='info', description='Progress:', layout=Layout(height='25px', width='50%'),…"
      ]
     },
     "metadata": {},
     "output_type": "display_data"
    }
   ],
   "source": [
    "import pyspark"
   ]
  },
  {
   "cell_type": "code",
   "execution_count": 5,
   "id": "d7f4ca3a-a278-4eb4-bde4-15d998df1aa7",
   "metadata": {
    "execution": {
     "iopub.execute_input": "2022-03-22T02:18:28.505638Z",
     "iopub.status.busy": "2022-03-22T02:18:28.505403Z",
     "iopub.status.idle": "2022-03-22T02:19:26.262217Z",
     "shell.execute_reply": "2022-03-22T02:19:26.261537Z",
     "shell.execute_reply.started": "2022-03-22T02:18:28.505614Z"
    }
   },
   "outputs": [
    {
     "name": "stdout",
     "output_type": "stream",
     "text": [
      "Starting Spark application\n"
     ]
    },
    {
     "data": {
      "text/html": [
       "<table>\n",
       "<tr><th>ID</th><th>YARN Application ID</th><th>Kind</th><th>State</th><th>Spark UI</th><th>Driver log</th><th>Current session?</th></tr><tr><td>1</td><td>application_1647913832303_0005</td><td>pyspark</td><td>idle</td><td><a target=\"_blank\" href=\"http://ip-172-31-38-39.us-east-2.compute.internal:20888/proxy/application_1647913832303_0005/\" class=\"emr-proxy-link\" emr-resource=\"j-3QXF03QBM98L2\n",
       "\" application-id=\"application_1647913832303_0005\">Link</a></td><td><a target=\"_blank\" href=\"http://ip-172-31-33-2.us-east-2.compute.internal:8042/node/containerlogs/container_1647913832303_0005_01_000001/livy\" >Link</a></td><td>✔</td></tr></table>"
      ],
      "text/plain": [
       "<IPython.core.display.HTML object>"
      ]
     },
     "metadata": {},
     "output_type": "display_data"
    },
    {
     "data": {
      "application/vnd.jupyter.widget-view+json": {
       "model_id": "",
       "version_major": 2,
       "version_minor": 0
      },
      "text/plain": [
       "FloatProgress(value=0.0, bar_style='info', description='Progress:', layout=Layout(height='25px', width='50%'),…"
      ]
     },
     "metadata": {},
     "output_type": "display_data"
    },
    {
     "name": "stdout",
     "output_type": "stream",
     "text": [
      "SparkSession available as 'spark'.\n"
     ]
    },
    {
     "data": {
      "text/html": [
       "Current session configs: <tt>{'conf': {'spark.jars.packages': 'io.delta:delta-core_2.12:1.0.0', 'spark.sql.extensions': 'io.delta.sql.DeltaSparkSessionExtension', 'spark.sql.catalog.spark_catalog': 'org.apache.spark.sql.delta.catalog.DeltaCatalog'}, 'proxyUser': 'user_igti-cloud', 'kind': 'pyspark'}</tt><br>"
      ],
      "text/plain": [
       "<IPython.core.display.HTML object>"
      ]
     },
     "metadata": {},
     "output_type": "display_data"
    },
    {
     "data": {
      "text/html": [
       "<table>\n",
       "<tr><th>ID</th><th>YARN Application ID</th><th>Kind</th><th>State</th><th>Spark UI</th><th>Driver log</th><th>Current session?</th></tr><tr><td>1</td><td>application_1647913832303_0005</td><td>pyspark</td><td>idle</td><td><a target=\"_blank\" href=\"http://ip-172-31-38-39.us-east-2.compute.internal:20888/proxy/application_1647913832303_0005/\" class=\"emr-proxy-link\" emr-resource=\"j-3QXF03QBM98L2\n",
       "\" application-id=\"application_1647913832303_0005\">Link</a></td><td><a target=\"_blank\" href=\"http://ip-172-31-33-2.us-east-2.compute.internal:8042/node/containerlogs/container_1647913832303_0005_01_000001/livy\" >Link</a></td><td>✔</td></tr></table>"
      ],
      "text/plain": [
       "<IPython.core.display.HTML object>"
      ]
     },
     "metadata": {},
     "output_type": "display_data"
    }
   ],
   "source": [
    "%%configure -f\n",
    "{\n",
    "    \"conf\": {\n",
    "        \"spark.jars.packages\": \"io.delta:delta-core_2.12:1.0.0\",\n",
    "        \"spark.sql.extensions\": \"io.delta.sql.DeltaSparkSessionExtension\",\n",
    "        \"spark.sql.catalog.spark_catalog\": \"org.apache.spark.sql.delta.catalog.DeltaCatalog\"\n",
    "    }\n",
    "}"
   ]
  },
  {
   "cell_type": "code",
   "execution_count": 8,
   "id": "07e701de-8dae-4d60-bba6-b338eb24906f",
   "metadata": {
    "execution": {
     "iopub.execute_input": "2022-03-22T02:24:01.521020Z",
     "iopub.status.busy": "2022-03-22T02:24:01.520773Z",
     "iopub.status.idle": "2022-03-22T02:24:01.592989Z",
     "shell.execute_reply": "2022-03-22T02:24:01.591097Z",
     "shell.execute_reply.started": "2022-03-22T02:24:01.520994Z"
    }
   },
   "outputs": [
    {
     "data": {
      "application/vnd.jupyter.widget-view+json": {
       "model_id": "cb82d1d20f534fa99067daf0135a68bf",
       "version_major": 2,
       "version_minor": 0
      },
      "text/plain": [
       "VBox()"
      ]
     },
     "metadata": {},
     "output_type": "display_data"
    },
    {
     "data": {
      "application/vnd.jupyter.widget-view+json": {
       "model_id": "",
       "version_major": 2,
       "version_minor": 0
      },
      "text/plain": [
       "FloatProgress(value=0.0, bar_style='info', description='Progress:', layout=Layout(height='25px', width='50%'),…"
      ]
     },
     "metadata": {},
     "output_type": "display_data"
    }
   ],
   "source": [
    "inscricoes = [190001595656,190001421546,190001133210,190001199383,190001237802,\n",
    "    190001782198,190001421548,190001595657,190001592264,190001592266,190001592265,190001475147,190001867756,190001133211,\n",
    "    190001237803,190001493186,190001421547,190001493187,190001210202,190001421549,190001595658,190002037437,190001421550,\n",
    "    190001595659,190001421551,190001237804,190001867757,190001184600,190001692704,190001867758,190002037438,190001595660,\n",
    "    190001237805,190001705260,190001421552,190001867759,190001595661,190001042834,190001237806,190001595662,190001421553,\n",
    "    190001475148,190001421554,190001493188,190002037439,190001421555,190001480442,190001493189,190001705261,190001421556]"
   ]
  },
  {
   "cell_type": "code",
   "execution_count": 6,
   "id": "9210eda9-e7fd-41af-8ab5-5b47d9b36340",
   "metadata": {
    "execution": {
     "iopub.execute_input": "2022-03-22T02:20:05.847609Z",
     "iopub.status.busy": "2022-03-22T02:20:05.847379Z",
     "iopub.status.idle": "2022-03-22T02:20:06.114814Z",
     "shell.execute_reply": "2022-03-22T02:20:06.114041Z",
     "shell.execute_reply.started": "2022-03-22T02:20:05.847585Z"
    }
   },
   "outputs": [
    {
     "data": {
      "application/vnd.jupyter.widget-view+json": {
       "model_id": "3f534cfe7bb349829c149a69406e81c7",
       "version_major": 2,
       "version_minor": 0
      },
      "text/plain": [
       "VBox()"
      ]
     },
     "metadata": {},
     "output_type": "display_data"
    },
    {
     "data": {
      "application/vnd.jupyter.widget-view+json": {
       "model_id": "",
       "version_major": 2,
       "version_minor": 0
      },
      "text/plain": [
       "FloatProgress(value=0.0, bar_style='info', description='Progress:', layout=Layout(height='25px', width='50%'),…"
      ]
     },
     "metadata": {},
     "output_type": "display_data"
    }
   ],
   "source": [
    "from delta.tables import *"
   ]
  },
  {
   "cell_type": "code",
   "execution_count": 7,
   "id": "b847b8f6-3ec2-4118-a76e-97a0468ca569",
   "metadata": {
    "execution": {
     "iopub.execute_input": "2022-03-22T02:22:00.630695Z",
     "iopub.status.busy": "2022-03-22T02:22:00.630463Z",
     "iopub.status.idle": "2022-03-22T02:22:24.039133Z",
     "shell.execute_reply": "2022-03-22T02:22:24.038070Z",
     "shell.execute_reply.started": "2022-03-22T02:22:00.630670Z"
    }
   },
   "outputs": [
    {
     "data": {
      "application/vnd.jupyter.widget-view+json": {
       "model_id": "7809a8cb575b44809bc27093e496e13a",
       "version_major": 2,
       "version_minor": 0
      },
      "text/plain": [
       "VBox()"
      ]
     },
     "metadata": {},
     "output_type": "display_data"
    },
    {
     "data": {
      "application/vnd.jupyter.widget-view+json": {
       "model_id": "",
       "version_major": 2,
       "version_minor": 0
      },
      "text/plain": [
       "FloatProgress(value=0.0, bar_style='info', description='Progress:', layout=Layout(height='25px', width='50%'),…"
      ]
     },
     "metadata": {},
     "output_type": "display_data"
    }
   ],
   "source": [
    "enemnovo = (\n",
    "    spark\n",
    "    .read\n",
    "    .format(\"delta\")\n",
    "    .load(\"s3://datalake-fcarrir-learning-930800861540-tf/staging-zone/enem/\")\n",
    ")  "
   ]
  },
  {
   "cell_type": "code",
   "execution_count": 13,
   "id": "36b64e93-168d-430d-b041-05eaaa55bd0f",
   "metadata": {
    "execution": {
     "iopub.execute_input": "2022-03-22T02:27:59.129292Z",
     "iopub.status.busy": "2022-03-22T02:27:59.129053Z",
     "iopub.status.idle": "2022-03-22T02:28:02.440384Z",
     "shell.execute_reply": "2022-03-22T02:28:02.439690Z",
     "shell.execute_reply.started": "2022-03-22T02:27:59.129267Z"
    },
    "tags": []
   },
   "outputs": [
    {
     "data": {
      "application/vnd.jupyter.widget-view+json": {
       "model_id": "cea73307fa7243a083a8ec61c19b378c",
       "version_major": 2,
       "version_minor": 0
      },
      "text/plain": [
       "VBox()"
      ]
     },
     "metadata": {},
     "output_type": "display_data"
    },
    {
     "data": {
      "application/vnd.jupyter.widget-view+json": {
       "model_id": "",
       "version_major": 2,
       "version_minor": 0
      },
      "text/plain": [
       "FloatProgress(value=0.0, bar_style='info', description='Progress:', layout=Layout(height='25px', width='50%'),…"
      ]
     },
     "metadata": {},
     "output_type": "display_data"
    },
    {
     "name": "stdout",
     "output_type": "stream",
     "text": [
      "+------------+-----------------------+-----------------------+-------+---------------+\n",
      "|NU_INSCRICAO|NO_MUNICIPIO_RESIDENCIA|CO_MUNICIPIO_RESIDENCIA|TP_SEXO|TP_ESTADO_CIVIL|\n",
      "+------------+-----------------------+-----------------------+-------+---------------+\n",
      "|190001042834|            NOVA CIDADE|               10000000|      M|              1|\n",
      "|190001133210|            NOVA CIDADE|               10000000|      F|              1|\n",
      "|190001133211|            NOVA CIDADE|               10000000|      F|              1|\n",
      "|190001184600|            NOVA CIDADE|               10000000|      M|              1|\n",
      "|190001199383|            NOVA CIDADE|               10000000|      F|              1|\n",
      "|190001210202|            NOVA CIDADE|               10000000|      F|              1|\n",
      "|190001237802|            NOVA CIDADE|               10000000|      F|              1|\n",
      "|190001237803|            NOVA CIDADE|               10000000|      F|              1|\n",
      "|190001237804|            NOVA CIDADE|               10000000|      M|              1|\n",
      "|190001237805|            NOVA CIDADE|               10000000|      F|              1|\n",
      "|190001237806|            NOVA CIDADE|               10000000|      F|              1|\n",
      "|190001421546|            NOVA CIDADE|               10000000|      M|              1|\n",
      "|190001421547|            NOVA CIDADE|               10000000|      M|              1|\n",
      "|190001421548|            NOVA CIDADE|               10000000|      F|              1|\n",
      "|190001421549|            NOVA CIDADE|               10000000|      F|              2|\n",
      "|190001421550|            NOVA CIDADE|               10000000|      M|              1|\n",
      "|190001421551|            NOVA CIDADE|               10000000|      F|              2|\n",
      "|190001421552|            NOVA CIDADE|               10000000|      M|              1|\n",
      "|190001421553|            NOVA CIDADE|               10000000|      F|              1|\n",
      "|190001421554|            NOVA CIDADE|               10000000|      F|              1|\n",
      "+------------+-----------------------+-----------------------+-------+---------------+\n",
      "only showing top 20 rows"
     ]
    }
   ],
   "source": [
    "(\n",
    "    enemnovo\n",
    "    .select(\"NU_INSCRICAO\", \"NO_MUNICIPIO_RESIDENCIA\", \"CO_MUNICIPIO_RESIDENCIA\", \"TP_SEXO\", \"TP_ESTADO_CIVIL\")\n",
    "    .where(enemnovo.NU_INSCRICAO.isin(inscricoes))\n",
    "    .orderBy(\"NU_INSCRICAO\")\n",
    "    .show()\n",
    ")"
   ]
  },
  {
   "cell_type": "code",
   "execution_count": 14,
   "id": "1b1ab30a-cb2f-426c-9818-583a674a67d9",
   "metadata": {
    "execution": {
     "iopub.execute_input": "2022-03-22T02:29:26.797711Z",
     "iopub.status.busy": "2022-03-22T02:29:26.797466Z",
     "iopub.status.idle": "2022-03-22T02:29:30.110775Z",
     "shell.execute_reply": "2022-03-22T02:29:30.110028Z",
     "shell.execute_reply.started": "2022-03-22T02:29:26.797686Z"
    }
   },
   "outputs": [
    {
     "data": {
      "application/vnd.jupyter.widget-view+json": {
       "model_id": "c85e0a4753584b9e9b942479b8259df6",
       "version_major": 2,
       "version_minor": 0
      },
      "text/plain": [
       "VBox()"
      ]
     },
     "metadata": {},
     "output_type": "display_data"
    },
    {
     "data": {
      "application/vnd.jupyter.widget-view+json": {
       "model_id": "",
       "version_major": 2,
       "version_minor": 0
      },
      "text/plain": [
       "FloatProgress(value=0.0, bar_style='info', description='Progress:', layout=Layout(height='25px', width='50%'),…"
      ]
     },
     "metadata": {},
     "output_type": "display_data"
    }
   ],
   "source": [
    "enemvelho = (\n",
    "    spark\n",
    "    .read\n",
    "    .format(\"delta\")\n",
    "    .option(\"versionAsOf\", \"0\")\n",
    "    .load(\"s3://datalake-fcarrir-learning-930800861540-tf/staging-zone/enem/\")\n",
    ")  "
   ]
  },
  {
   "cell_type": "code",
   "execution_count": 15,
   "id": "28e8827c-ce41-482b-8b21-21c3f179126e",
   "metadata": {
    "execution": {
     "iopub.execute_input": "2022-03-22T02:30:52.777431Z",
     "iopub.status.busy": "2022-03-22T02:30:52.777189Z",
     "iopub.status.idle": "2022-03-22T02:30:56.109716Z",
     "shell.execute_reply": "2022-03-22T02:30:56.108818Z",
     "shell.execute_reply.started": "2022-03-22T02:30:52.777406Z"
    }
   },
   "outputs": [
    {
     "data": {
      "application/vnd.jupyter.widget-view+json": {
       "model_id": "615f4e42fc89413793253c8f977d5086",
       "version_major": 2,
       "version_minor": 0
      },
      "text/plain": [
       "VBox()"
      ]
     },
     "metadata": {},
     "output_type": "display_data"
    },
    {
     "data": {
      "application/vnd.jupyter.widget-view+json": {
       "model_id": "",
       "version_major": 2,
       "version_minor": 0
      },
      "text/plain": [
       "FloatProgress(value=0.0, bar_style='info', description='Progress:', layout=Layout(height='25px', width='50%'),…"
      ]
     },
     "metadata": {},
     "output_type": "display_data"
    },
    {
     "name": "stdout",
     "output_type": "stream",
     "text": [
      "enemnovo  possui 5095270 linhas\n",
      "enemvelho possui 5095270 linhas"
     ]
    }
   ],
   "source": [
    "print(f\"enemnovo  possui {enemnovo.count()} linhas\")\n",
    "print(f\"enemvelho possui {enemvelho.count()} linhas\")"
   ]
  },
  {
   "cell_type": "code",
   "execution_count": 18,
   "id": "c5a147ab-8f3b-43c6-ae7d-fefd473ff986",
   "metadata": {
    "execution": {
     "iopub.execute_input": "2022-03-22T02:32:01.051277Z",
     "iopub.status.busy": "2022-03-22T02:32:01.051052Z",
     "iopub.status.idle": "2022-03-22T02:32:03.351092Z",
     "shell.execute_reply": "2022-03-22T02:32:03.350488Z",
     "shell.execute_reply.started": "2022-03-22T02:32:01.051253Z"
    },
    "tags": []
   },
   "outputs": [
    {
     "data": {
      "application/vnd.jupyter.widget-view+json": {
       "model_id": "c1369f65efe947cfaa3c2015d7c0fc87",
       "version_major": 2,
       "version_minor": 0
      },
      "text/plain": [
       "VBox()"
      ]
     },
     "metadata": {},
     "output_type": "display_data"
    },
    {
     "data": {
      "application/vnd.jupyter.widget-view+json": {
       "model_id": "",
       "version_major": 2,
       "version_minor": 0
      },
      "text/plain": [
       "FloatProgress(value=0.0, bar_style='info', description='Progress:', layout=Layout(height='25px', width='50%'),…"
      ]
     },
     "metadata": {},
     "output_type": "display_data"
    },
    {
     "name": "stdout",
     "output_type": "stream",
     "text": [
      "+------------+-----------------------+-----------------------+-------+---------------+\n",
      "|NU_INSCRICAO|NO_MUNICIPIO_RESIDENCIA|CO_MUNICIPIO_RESIDENCIA|TP_SEXO|TP_ESTADO_CIVIL|\n",
      "+------------+-----------------------+-----------------------+-------+---------------+\n",
      "|190001042834|                  Bel�m|                1501402|      M|              1|\n",
      "|190001133210|              Fortaleza|                2304400|      F|              1|\n",
      "|190001133211|              Fortaleza|                2304400|      F|              1|\n",
      "|190001184600|                 Macap�|                1600303|      M|              1|\n",
      "|190001199383|                 Palmas|                1721000|      F|              1|\n",
      "|190001210202|        Itapecuru Mirim|                2105401|      F|              1|\n",
      "|190001237802|               Contagem|                3118601|      F|              1|\n",
      "|190001237803|             Uberl�ndia|                3170206|      F|              1|\n",
      "|190001237804|             Esmeraldas|                3124104|      M|              1|\n",
      "|190001237805|   Conselheiro Lafaiete|                3118304|      F|              1|\n",
      "|190001237806|   S�o Joaquim de Bicas|                3162922|      F|              1|\n",
      "|190001421546|       Feira de Santana|                2910800|      M|              1|\n",
      "|190001421547|               Guanambi|                2911709|      M|              1|\n",
      "|190001421548|           Paulo Afonso|                2924009|      F|              1|\n",
      "|190001421549|               Salvador|                2927408|      F|              2|\n",
      "|190001421550|               Salvador|                2927408|      M|              1|\n",
      "|190001421551|               Jacobina|                2917508|      F|              2|\n",
      "|190001421552|       Lauro de Freitas|                2919207|      M|              1|\n",
      "|190001421553|               Salvador|                2927408|      F|              1|\n",
      "|190001421554|               Salvador|                2927408|      F|              1|\n",
      "+------------+-----------------------+-----------------------+-------+---------------+\n",
      "only showing top 20 rows"
     ]
    }
   ],
   "source": [
    "(\n",
    "    enemvelho\n",
    "    .select(\"NU_INSCRICAO\", \"NO_MUNICIPIO_RESIDENCIA\", \"CO_MUNICIPIO_RESIDENCIA\", \"TP_SEXO\", \"TP_ESTADO_CIVIL\")\n",
    "    .where(enemvelho.NU_INSCRICAO.isin(inscricoes))\n",
    "    .orderBy(\"NU_INSCRICAO\")\n",
    "    .show()\n",
    ")"
   ]
  },
  {
   "cell_type": "code",
   "execution_count": null,
   "id": "54e1b848-a298-42e3-b0f5-10ed48bd7d1a",
   "metadata": {},
   "outputs": [],
   "source": []
  }
 ],
 "metadata": {
  "kernelspec": {
   "display_name": "PySpark",
   "language": "",
   "name": "pysparkkernel"
  },
  "language_info": {
   "codemirror_mode": {
    "name": "python",
    "version": 3
   },
   "mimetype": "text/x-python",
   "name": "pyspark",
   "pygments_lexer": "python3"
  }
 },
 "nbformat": 4,
 "nbformat_minor": 5
}
